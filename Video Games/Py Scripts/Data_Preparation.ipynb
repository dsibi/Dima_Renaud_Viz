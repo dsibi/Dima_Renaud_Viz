{
 "cells": [
  {
   "cell_type": "code",
   "execution_count": 34,
   "metadata": {
    "scrolled": true
   },
   "outputs": [],
   "source": [
    "import pandas as pd\n",
    "url='https://raw.githubusercontent.com/liberrenaud/Dima_Renaud_Viz/master/Data/Video_Game_Sales.csv'\n",
    "video_games_raw_tbl=pd.read_csv(url, sep=None, engine = 'python',decimal=',')"
   ]
  },
  {
   "cell_type": "code",
   "execution_count": 35,
   "metadata": {},
   "outputs": [
    {
     "data": {
      "text/plain": [
       "Genre                  0\n",
       "% NA Sales             0\n",
       "Company                0\n",
       "Console Format         0\n",
       "Name                   0\n",
       "Platform               0\n",
       "Publisher             58\n",
       "Year                 270\n",
       "Genre Rank (AGG)       0\n",
       "Global Sales           0\n",
       "EU Sales (SUM)         0\n",
       "JP Sales (SUM)         0\n",
       "Other Sales (SUM)      0\n",
       "dtype: int64"
      ]
     },
     "execution_count": 35,
     "metadata": {},
     "output_type": "execute_result"
    }
   ],
   "source": [
    "#check for rows with nulls\n",
    "video_games_raw_tbl.isnull().sum()"
   ]
  },
  {
   "cell_type": "code",
   "execution_count": 36,
   "metadata": {},
   "outputs": [
    {
     "data": {
      "text/plain": [
       "Genre                 0\n",
       "% NA Sales            0\n",
       "Company               0\n",
       "Console Format        0\n",
       "Name                  0\n",
       "Platform              0\n",
       "Publisher            36\n",
       "Year                  0\n",
       "Genre Rank (AGG)      0\n",
       "Global Sales          0\n",
       "EU Sales (SUM)        0\n",
       "JP Sales (SUM)        0\n",
       "Other Sales (SUM)     0\n",
       "dtype: int64"
      ]
     },
     "execution_count": 36,
     "metadata": {},
     "output_type": "execute_result"
    }
   ],
   "source": [
    "# delete rows with Null in Year\n",
    "video_games_raw_tbl.dropna(subset=['Year'],inplace=True)\n",
    "#check for rows with nulls\n",
    "video_games_raw_tbl.isnull().sum()"
   ]
  },
  {
   "cell_type": "code",
   "execution_count": 37,
   "metadata": {},
   "outputs": [],
   "source": [
    "#change NaN value in Publisher to 'unknown' - KeyError: 'Publisher'\n",
    "# video_games_raw_tbl['Publisher'] = df['Publisher'].fillna('unknown')"
   ]
  },
  {
   "cell_type": "code",
   "execution_count": 38,
   "metadata": {},
   "outputs": [
    {
     "data": {
      "text/plain": [
       "0"
      ]
     },
     "execution_count": 38,
     "metadata": {},
     "output_type": "execute_result"
    }
   ],
   "source": [
    "#check for duplicates\n",
    "video_games_raw_tbl.duplicated().sum()"
   ]
  },
  {
   "cell_type": "code",
   "execution_count": 39,
   "metadata": {},
   "outputs": [
    {
     "name": "stdout",
     "output_type": "stream",
     "text": [
      "<class 'pandas.core.frame.DataFrame'>\n",
      "Int64Index: 16327 entries, 0 to 16596\n",
      "Data columns (total 13 columns):\n",
      " #   Column             Non-Null Count  Dtype  \n",
      "---  ------             --------------  -----  \n",
      " 0   Genre              16327 non-null  object \n",
      " 1   % NA Sales         16327 non-null  float64\n",
      " 2   Company            16327 non-null  object \n",
      " 3   Console Format     16327 non-null  object \n",
      " 4   Name               16327 non-null  object \n",
      " 5   Platform           16327 non-null  object \n",
      " 6   Publisher          16291 non-null  object \n",
      " 7   Year               16327 non-null  float64\n",
      " 8   Genre Rank (AGG)   16327 non-null  int64  \n",
      " 9   Global Sales       16327 non-null  float64\n",
      " 10  EU Sales (SUM)     16327 non-null  float64\n",
      " 11  JP Sales (SUM)     16327 non-null  float64\n",
      " 12  Other Sales (SUM)  16327 non-null  float64\n",
      "dtypes: float64(6), int64(1), object(6)\n",
      "memory usage: 1.7+ MB\n"
     ]
    }
   ],
   "source": [
    "#check for type of data\n",
    "video_games_raw_tbl.info()"
   ]
  },
  {
   "cell_type": "code",
   "execution_count": 41,
   "metadata": {},
   "outputs": [
    {
     "data": {
      "text/html": [
       "<div>\n",
       "<style scoped>\n",
       "    .dataframe tbody tr th:only-of-type {\n",
       "        vertical-align: middle;\n",
       "    }\n",
       "\n",
       "    .dataframe tbody tr th {\n",
       "        vertical-align: top;\n",
       "    }\n",
       "\n",
       "    .dataframe thead th {\n",
       "        text-align: right;\n",
       "    }\n",
       "</style>\n",
       "<table border=\"1\" class=\"dataframe\">\n",
       "  <thead>\n",
       "    <tr style=\"text-align: right;\">\n",
       "      <th></th>\n",
       "      <th>Genre</th>\n",
       "      <th>% NA Sales</th>\n",
       "      <th>Company</th>\n",
       "      <th>Console Format</th>\n",
       "      <th>Name</th>\n",
       "      <th>Platform</th>\n",
       "      <th>Publisher</th>\n",
       "      <th>Year</th>\n",
       "      <th>Genre Rank (AGG)</th>\n",
       "      <th>Global Sales</th>\n",
       "      <th>EU Sales (SUM)</th>\n",
       "      <th>JP Sales (SUM)</th>\n",
       "      <th>Other Sales (SUM)</th>\n",
       "    </tr>\n",
       "  </thead>\n",
       "  <tbody>\n",
       "    <tr>\n",
       "      <th>0</th>\n",
       "      <td>Misc</td>\n",
       "      <td>0.888889</td>\n",
       "      <td>Nintendo</td>\n",
       "      <td>Handheld</td>\n",
       "      <td>1 vs. 100</td>\n",
       "      <td>DS</td>\n",
       "      <td>DSI Games</td>\n",
       "      <td>2008</td>\n",
       "      <td>10818</td>\n",
       "      <td>0.09</td>\n",
       "      <td>0.00</td>\n",
       "      <td>0.00</td>\n",
       "      <td>0.01</td>\n",
       "    </tr>\n",
       "    <tr>\n",
       "      <th>1</th>\n",
       "      <td>Adventure</td>\n",
       "      <td>0.000000</td>\n",
       "      <td>Sony</td>\n",
       "      <td>Handheld</td>\n",
       "      <td>1/2 Summer +</td>\n",
       "      <td>PSP</td>\n",
       "      <td>Kaga Create</td>\n",
       "      <td>2013</td>\n",
       "      <td>15980</td>\n",
       "      <td>0.01</td>\n",
       "      <td>0.00</td>\n",
       "      <td>0.01</td>\n",
       "      <td>0.00</td>\n",
       "    </tr>\n",
       "    <tr>\n",
       "      <th>2</th>\n",
       "      <td>Racing</td>\n",
       "      <td>0.750000</td>\n",
       "      <td>Nintendo</td>\n",
       "      <td>Handheld</td>\n",
       "      <td>2 Games in 1 Double Pack: Hot Wheels Velocity ...</td>\n",
       "      <td>Game Boy Advance</td>\n",
       "      <td>THQ</td>\n",
       "      <td>2005</td>\n",
       "      <td>9659</td>\n",
       "      <td>0.12</td>\n",
       "      <td>0.03</td>\n",
       "      <td>0.00</td>\n",
       "      <td>0.00</td>\n",
       "    </tr>\n",
       "    <tr>\n",
       "      <th>3</th>\n",
       "      <td>Action</td>\n",
       "      <td>0.715909</td>\n",
       "      <td>Nintendo</td>\n",
       "      <td>Handheld</td>\n",
       "      <td>2 Games in 1 Double Pack: The Incredibles / Fi...</td>\n",
       "      <td>Game Boy Advance</td>\n",
       "      <td>THQ</td>\n",
       "      <td>2007</td>\n",
       "      <td>988</td>\n",
       "      <td>1.76</td>\n",
       "      <td>0.47</td>\n",
       "      <td>0.00</td>\n",
       "      <td>0.03</td>\n",
       "    </tr>\n",
       "    <tr>\n",
       "      <th>4</th>\n",
       "      <td>Misc</td>\n",
       "      <td>0.714286</td>\n",
       "      <td>Nintendo</td>\n",
       "      <td>Handheld</td>\n",
       "      <td>2 Games in 1: Disney Princess &amp; The Lion King</td>\n",
       "      <td>Game Boy Advance</td>\n",
       "      <td>THQ</td>\n",
       "      <td>2004</td>\n",
       "      <td>1004</td>\n",
       "      <td>1.75</td>\n",
       "      <td>0.46</td>\n",
       "      <td>0.00</td>\n",
       "      <td>0.03</td>\n",
       "    </tr>\n",
       "  </tbody>\n",
       "</table>\n",
       "</div>"
      ],
      "text/plain": [
       "       Genre  % NA Sales   Company Console Format  \\\n",
       "0       Misc    0.888889  Nintendo       Handheld   \n",
       "1  Adventure    0.000000      Sony       Handheld   \n",
       "2     Racing    0.750000  Nintendo       Handheld   \n",
       "3     Action    0.715909  Nintendo       Handheld   \n",
       "4       Misc    0.714286  Nintendo       Handheld   \n",
       "\n",
       "                                                Name          Platform  \\\n",
       "0                                          1 vs. 100                DS   \n",
       "1                                       1/2 Summer +               PSP   \n",
       "2  2 Games in 1 Double Pack: Hot Wheels Velocity ...  Game Boy Advance   \n",
       "3  2 Games in 1 Double Pack: The Incredibles / Fi...  Game Boy Advance   \n",
       "4      2 Games in 1: Disney Princess & The Lion King  Game Boy Advance   \n",
       "\n",
       "     Publisher  Year  Genre Rank (AGG)  Global Sales  EU Sales (SUM)  \\\n",
       "0    DSI Games  2008             10818          0.09            0.00   \n",
       "1  Kaga Create  2013             15980          0.01            0.00   \n",
       "2          THQ  2005              9659          0.12            0.03   \n",
       "3          THQ  2007               988          1.76            0.47   \n",
       "4          THQ  2004              1004          1.75            0.46   \n",
       "\n",
       "   JP Sales (SUM)  Other Sales (SUM)  \n",
       "0            0.00               0.01  \n",
       "1            0.01               0.00  \n",
       "2            0.00               0.00  \n",
       "3            0.00               0.03  \n",
       "4            0.00               0.03  "
      ]
     },
     "execution_count": 41,
     "metadata": {},
     "output_type": "execute_result"
    }
   ],
   "source": [
    "#convert type of data - ValueError: invalid literal for int() with base 10: 'Year'\n",
    "# pd.Series(['Year']).astype(int)\n",
    "video_games_raw_tbl['Year'] = video_games_raw_tbl['Year'].astype(int)\n",
    "video_games_raw_tbl.head()"
   ]
  }
 ],
 "metadata": {
  "kernelspec": {
   "display_name": "Python 3",
   "language": "python",
   "name": "python3"
  },
  "language_info": {
   "codemirror_mode": {
    "name": "ipython",
    "version": 3
   },
   "file_extension": ".py",
   "mimetype": "text/x-python",
   "name": "python",
   "nbconvert_exporter": "python",
   "pygments_lexer": "ipython3",
   "version": "3.7.7"
  }
 },
 "nbformat": 4,
 "nbformat_minor": 4
}
