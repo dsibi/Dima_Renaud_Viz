{
 "cells": [
  {
   "cell_type": "code",
   "execution_count": 96,
   "metadata": {
    "scrolled": true
   },
   "outputs": [],
   "source": [
    "import pandas as pd\n",
    "url='https://raw.githubusercontent.com/liberrenaud/Dima_Renaud_Viz/master/Data/Video_Game_Sales.csv'\n",
    "video_games_raw_tbl=pd.read_csv(url, sep=None, engine = 'python')"
   ]
  },
  {
   "cell_type": "code",
   "execution_count": 97,
   "metadata": {},
   "outputs": [
    {
     "data": {
      "text/plain": [
       "Genre                  0\n",
       "% NA Sales             0\n",
       "Company                0\n",
       "Console Format         0\n",
       "Name                   0\n",
       "Platform               0\n",
       "Publisher             58\n",
       "Year                 270\n",
       "Genre Rank (AGG)       0\n",
       "Global Sales           0\n",
       "EU Sales (SUM)         0\n",
       "JP Sales (SUM)         0\n",
       "Other Sales (SUM)      0\n",
       "dtype: int64"
      ]
     },
     "execution_count": 97,
     "metadata": {},
     "output_type": "execute_result"
    }
   ],
   "source": [
    "#check for rows with nulls\n",
    "video_games_raw_tbl.isnull().sum()"
   ]
  },
  {
   "cell_type": "code",
   "execution_count": 98,
   "metadata": {},
   "outputs": [
    {
     "data": {
      "text/plain": [
       "Genre                 0\n",
       "% NA Sales            0\n",
       "Company               0\n",
       "Console Format        0\n",
       "Name                  0\n",
       "Platform              0\n",
       "Publisher            36\n",
       "Year                  0\n",
       "Genre Rank (AGG)      0\n",
       "Global Sales          0\n",
       "EU Sales (SUM)        0\n",
       "JP Sales (SUM)        0\n",
       "Other Sales (SUM)     0\n",
       "dtype: int64"
      ]
     },
     "execution_count": 98,
     "metadata": {},
     "output_type": "execute_result"
    }
   ],
   "source": [
    "# delete rows with Null in Year\n",
    "video_games_raw_tbl.dropna(subset=['Year'],inplace=True)\n",
    "#check for rows with nulls\n",
    "video_games_raw_tbl.isnull().sum()"
   ]
  },
  {
   "cell_type": "code",
   "execution_count": 99,
   "metadata": {},
   "outputs": [],
   "source": [
    "#change NaN value in Publisher to 'unknown' - KeyError: 'Publisher'\n",
    "# video_games_raw_tbl['Publisher'] = df['Publisher'].fillna('unknown')"
   ]
  },
  {
   "cell_type": "code",
   "execution_count": 100,
   "metadata": {},
   "outputs": [
    {
     "data": {
      "text/plain": [
       "0"
      ]
     },
     "execution_count": 100,
     "metadata": {},
     "output_type": "execute_result"
    }
   ],
   "source": [
    "#check for duplicates\n",
    "video_games_raw_tbl.duplicated().sum()"
   ]
  },
  {
   "cell_type": "code",
   "execution_count": 101,
   "metadata": {},
   "outputs": [
    {
     "name": "stdout",
     "output_type": "stream",
     "text": [
      "<class 'pandas.core.frame.DataFrame'>\n",
      "Int64Index: 16327 entries, 0 to 16596\n",
      "Data columns (total 13 columns):\n",
      " #   Column             Non-Null Count  Dtype  \n",
      "---  ------             --------------  -----  \n",
      " 0   Genre              16327 non-null  object \n",
      " 1   % NA Sales         16327 non-null  object \n",
      " 2   Company            16327 non-null  object \n",
      " 3   Console Format     16327 non-null  object \n",
      " 4   Name               16327 non-null  object \n",
      " 5   Platform           16327 non-null  object \n",
      " 6   Publisher          16291 non-null  object \n",
      " 7   Year               16327 non-null  float64\n",
      " 8   Genre Rank (AGG)   16327 non-null  int64  \n",
      " 9   Global Sales       16327 non-null  object \n",
      " 10  EU Sales (SUM)     16327 non-null  object \n",
      " 11  JP Sales (SUM)     16327 non-null  object \n",
      " 12  Other Sales (SUM)  16327 non-null  object \n",
      "dtypes: float64(1), int64(1), object(11)\n",
      "memory usage: 1.7+ MB\n"
     ]
    }
   ],
   "source": [
    "#check for type of data\n",
    "video_games_raw_tbl.info()"
   ]
  },
  {
   "cell_type": "code",
   "execution_count": 102,
   "metadata": {},
   "outputs": [],
   "source": [
    "#convert type of data - ValueError: invalid literal for int() with base 10: 'Year'\n",
    "# pd.Series(['Year']).astype(int)"
   ]
  }
 ],
 "metadata": {
  "kernelspec": {
   "display_name": "Python 3",
   "language": "python",
   "name": "python3"
  },
  "language_info": {
   "codemirror_mode": {
    "name": "ipython",
    "version": 3
   },
   "file_extension": ".py",
   "mimetype": "text/x-python",
   "name": "python",
   "nbconvert_exporter": "python",
   "pygments_lexer": "ipython3",
   "version": "3.7.7"
  }
 },
 "nbformat": 4,
 "nbformat_minor": 4
}
